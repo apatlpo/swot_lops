{
 "cells": [
  {
   "cell_type": "markdown",
   "id": "e23ab5be-17da-466c-9af6-915ac66f8189",
   "metadata": {},
   "source": [
    "# demo: find drifter under swath"
   ]
  },
  {
   "cell_type": "code",
   "execution_count": null,
   "id": "7e7df255-b27a-4101-92b4-0f98c63c6fff",
   "metadata": {},
   "outputs": [],
   "source": [
    "import numpy as np\n",
    "import pandas as pd\n",
    "import xarray as xr\n",
    "\n",
    "import matplotlib.pyplot as plt\n",
    "\n",
    "#from pyproj import Geod, Proj\n",
    "import geopandas as gpd\n",
    "import shapely as shp\n",
    "from shapely.geometry import Polygon"
   ]
  },
  {
   "cell_type": "markdown",
   "id": "68216b2d-ded3-495a-89c7-31283776fae2",
   "metadata": {},
   "source": [
    "### utils"
   ]
  },
  {
   "cell_type": "code",
   "execution_count": 63,
   "id": "c4d39372-93f9-47b6-8a9f-3c41d5f6ce25",
   "metadata": {},
   "outputs": [],
   "source": [
    "\n",
    "def build_swath_polygon(da, x=\"x\", y=\"y\", dix = 50, diy = 50, side=None):\n",
    "    \"\"\" build a shapely polygon of swot swath\n",
    "\n",
    "    Parameters\n",
    "    ----------\n",
    "    da: xr.Dataset, xr.DataArray\n",
    "        Input dataset where coordinates x/y are found\n",
    "    x, y: str, optional\n",
    "        Coordinates to use to define bounds\n",
    "    dix, diy: int, optional\n",
    "        Subsampling steps in num_pixels and num_lines directions\n",
    "    side: str, optional\n",
    "        take either the polygon for the full swath, or the right/left ones\n",
    "    \"\"\"\n",
    "\n",
    "    # right swath\n",
    "    if side==\"left\":\n",
    "        da = da.isel(num_pixels=slice(0, da.num_pixels.size//2))\n",
    "    elif side==\"right\":\n",
    "        da = da.isel(num_pixels=slice(da.num_pixels.size//2, -1))\n",
    "            \n",
    "    nx = da.num_pixels.size\n",
    "    ny = da.num_lines.size\n",
    "        \n",
    "    rg = lambda size, di: list(range(0, size, dix))+[size-1]\n",
    "    \n",
    "    X, Y = [], []\n",
    "    \n",
    "    e = da.isel(num_lines=0, num_pixels=rg(nx, dix))\n",
    "    X += list(e[x].data)\n",
    "    Y += list(e[y].data)\n",
    "    \n",
    "    e = da.isel(num_lines=-1, num_pixels=rg(nx, dix))\n",
    "    X += list(e[x].data)\n",
    "    Y += list(e[y].data)\n",
    "    \n",
    "    e = da.isel(num_lines=rg(ny,diy), num_pixels=0)\n",
    "    X += list(e[x].data)\n",
    "    Y += list(e[y].data)\n",
    "    \n",
    "    e = da.isel(num_lines=rg(ny,diy), num_pixels=-1)\n",
    "    X += list(e[x].data)\n",
    "    Y += list(e[y].data)\n",
    "    \n",
    "    mpt = shp.MultiPoint([[x, y] for x, y in zip(X, Y)])\n",
    "    poly = mpt.convex_hull\n",
    "\n",
    "    return poly\n",
    "\n",
    "#def is_inside(poly, *args):\n",
    "#    if len(args)==2:\n",
    "#        pt = shp.Point(*args)\n",
    "#    else:\n",
    "#        pt = args[0]\n",
    "#    return poly.contains(pt)"
   ]
  },
  {
   "cell_type": "markdown",
   "id": "1da75077-eab8-4354-b70c-238ef7bfb3c5",
   "metadata": {},
   "source": [
    "### load data"
   ]
  },
  {
   "cell_type": "code",
   "execution_count": null,
   "id": "1c935367-4077-40b0-8ae7-2b5f89a346b6",
   "metadata": {},
   "outputs": [],
   "source": [
    "swot = xr.open_zarr(\n",
    "    \"/home/datawork-lops-osi/aponte/swot/cswot/swot/l3_v1.0.1/3_500.zarr\"\n",
    ").compute()"
   ]
  },
  {
   "cell_type": "code",
   "execution_count": null,
   "id": "c08ef0d5-5d57-453c-b718-4edec4b5d0e5",
   "metadata": {},
   "outputs": [],
   "source": [
    "dr = xr.open_dataset(\n",
    "    \"/home/datawork-lops-osi/aponte/swot/cswot/drifters_harmonized/L2/all_med_variational_1h_v0.nc\"\n",
    ")"
   ]
  },
  {
   "cell_type": "code",
   "execution_count": null,
   "id": "3c1981cc-0382-4ed3-9e76-f30556b40d19",
   "metadata": {},
   "outputs": [],
   "source": [
    "# build swath polygons\n",
    "both = build_swath_polygon(swot, x=\"longitude\", y=\"latitude\", dix = 50, diy = 50, side=None)\n",
    "left = build_swath_polygon(swot, x=\"longitude\", y=\"latitude\", dix = 50, diy = 50, side=\"left\")\n",
    "right = build_swath_polygon(swot, x=\"longitude\", y=\"latitude\", dix = 50, diy = 50, side=\"right\")"
   ]
  },
  {
   "cell_type": "code",
   "execution_count": null,
   "id": "23f272c9-8ba0-4698-89f5-919d28b37e71",
   "metadata": {},
   "outputs": [],
   "source": [
    "# stack dimensions\n",
    "drs = dr.stack(points=(\"datetime\", \"drifter_id\"))\n",
    "lon, lat = drs.longitude.fillna(0.).values, drs.latitude.fillna(0.).values"
   ]
  },
  {
   "cell_type": "code",
   "execution_count": 67,
   "id": "51e29b44-a46c-45ae-9b90-85fd13042c77",
   "metadata": {},
   "outputs": [],
   "source": [
    "# test if points inside left swath\n",
    "drs[\"inside_left\"] = (\n",
    "    \"points\", \n",
    "    np.array([left.contains(shp.Point(_lon, _lat)) for _lon, _lat in zip(lon, lat)]),\n",
    ")"
   ]
  },
  {
   "cell_type": "code",
   "execution_count": 76,
   "id": "67c199e9-4cba-4a1a-a377-b5ecbbe4845a",
   "metadata": {},
   "outputs": [],
   "source": [
    "# put mask inside original dataset\n",
    "dr[\"inside_left\"] = drs[\"inside_left\"].unstack()\n",
    "\n",
    "# masked dataset\n",
    "dr_left = dr.where(dr[\"inside_left\"])"
   ]
  },
  {
   "cell_type": "code",
   "execution_count": 81,
   "id": "f54a63cd-13bd-418a-a9c7-5564da00ff96",
   "metadata": {},
   "outputs": [
    {
     "data": {
      "image/png": "[encoded data removed]",
      "text/plain": [
       "<Figure size 640x480 with 1 Axes>"
      ]
     },
     "metadata": {},
     "output_type": "display_data"
    }
   ],
   "source": [
    "fig, ax = plt.subplots(1,1)\n",
    "ax.scatter(dr.longitude, dr.latitude, c=\"k\", s=1)\n",
    "ax.scatter(dr_left.longitude, dr_left.latitude, c=\"C1\", s=2)\n",
    "ax.set_aspect(np.cos(np.deg2rad(40)))"
   ]
  },
  {
   "cell_type": "markdown",
   "id": "7685f9c0-c009-49fb-b793-167c2eb05c15",
   "metadata": {},
   "source": [
    "### play with geopandas"
   ]
  },
  {
   "cell_type": "code",
   "execution_count": null,
   "id": "0580ae00-b366-47ce-8781-bdde8d7eac65",
   "metadata": {},
   "outputs": [],
   "source": [
    "gdf = gpd.GeoDataFrame(dict(i=range(3)), geometry=[both, left, right],index=[\"both\", \"left\", \"right\"])"
   ]
  },
  {
   "cell_type": "code",
   "execution_count": null,
   "id": "f6cd90e9-8800-44c4-83e5-6e814c444164",
   "metadata": {},
   "outputs": [],
   "source": [
    "gdf.loc[[\"both\"]].plot()"
   ]
  },
  {
   "cell_type": "code",
   "execution_count": null,
   "id": "2130cdcb-73a5-4b62-9c6c-adfa8d2ba917",
   "metadata": {},
   "outputs": [],
   "source": [
    "gdf.plot(column=\"i\", alpha=.8)"
   ]
  },
  {
   "cell_type": "code",
   "execution_count": null,
   "id": "d162fb95-5573-4b81-aad6-25d641a69bf6",
   "metadata": {},
   "outputs": [],
   "source": []
  }
 ],
 "metadata": {
  "kernelspec": {
   "display_name": "Python 3 (ipykernel)",
   "language": "python",
   "name": "python3"
  },
  "language_info": {
   "codemirror_mode": {
    "name": "ipython",
    "version": 3
   },
   "file_extension": ".py",
   "mimetype": "text/x-python",
   "name": "python",
   "nbconvert_exporter": "python",
   "pygments_lexer": "ipython3",
   "version": "3.10.13"
  }
 },
 "nbformat": 4,
 "nbformat_minor": 5
}
